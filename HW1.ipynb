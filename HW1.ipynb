{
  "nbformat": 4,
  "nbformat_minor": 0,
  "metadata": {
    "colab": {
      "name": "HW1.ipynb",
      "provenance": [],
      "authorship_tag": "ABX9TyM8cMN7X07sdLMecyJ2vKYJ",
      "include_colab_link": true
    },
    "kernelspec": {
      "name": "python3",
      "display_name": "Python 3"
    }
  },
  "cells": [
    {
      "cell_type": "markdown",
      "metadata": {
        "id": "view-in-github",
        "colab_type": "text"
      },
      "source": [
        "<a href=\"https://colab.research.google.com/github/canaytsr/GlobalAIHubPythonCourse/blob/main/HW1.ipynb\" target=\"_parent\"><img src=\"https://colab.research.google.com/assets/colab-badge.svg\" alt=\"Open In Colab\"/></a>"
      ]
    },
    {
      "cell_type": "markdown",
      "metadata": {
        "id": "o9BNzv6_3yIK"
      },
      "source": [
        "**Q1)** Create a List and swap the second half of the list with the first half of the list and print this list on the screen.\r\n"
      ]
    },
    {
      "cell_type": "code",
      "metadata": {
        "colab": {
          "base_uri": "https://localhost:8080/"
        },
        "id": "Ww5rAS-Y29Qm",
        "outputId": "d025f978-f74e-487f-9137-bb068ff24242"
      },
      "source": [
        "list1= ['1','2','3','4','5','6']\r\n",
        "lenght=int(len(list1)/2)\r\n",
        "\r\n",
        "list2 =  list1[lenght:]+list1[:lenght]\r\n",
        "print(list2)"
      ],
      "execution_count": 1,
      "outputs": [
        {
          "output_type": "stream",
          "text": [
            "['4', '5', '6', '1', '2', '3']\n"
          ],
          "name": "stdout"
        }
      ]
    },
    {
      "cell_type": "markdown",
      "metadata": {
        "id": "v0zoJdjI4mAl"
      },
      "source": [
        "**Q2)** Ask the user to input a single digit integer to a variable 'n'. Then, print out all of even numbers from 0 to n (including n)"
      ]
    },
    {
      "cell_type": "code",
      "metadata": {
        "colab": {
          "base_uri": "https://localhost:8080/"
        },
        "id": "6kn0mDqC5BR8",
        "outputId": "adf0d102-8558-435c-d841-4c9488aa939b"
      },
      "source": [
        "num=int(input(\"Enter a single digit variable:\"))\r\n",
        "for i in range(num+1):\r\n",
        "    if i%2==0:\r\n",
        "        print(i)\r\n",
        "   "
      ],
      "execution_count": 4,
      "outputs": [
        {
          "output_type": "stream",
          "text": [
            "Enter a single digit variable:8\n",
            "0\n",
            "2\n",
            "4\n",
            "6\n",
            "8\n"
          ],
          "name": "stdout"
        }
      ]
    }
  ]
}