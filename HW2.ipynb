{
  "nbformat": 4,
  "nbformat_minor": 0,
  "metadata": {
    "colab": {
      "name": "HW2.ipynb",
      "provenance": [],
      "collapsed_sections": [],
      "authorship_tag": "ABX9TyOmlfH0G3+8SEkWqA0HS/z2",
      "include_colab_link": true
    },
    "kernelspec": {
      "name": "python3",
      "display_name": "Python 3"
    }
  },
  "cells": [
    {
      "cell_type": "markdown",
      "metadata": {
        "id": "view-in-github",
        "colab_type": "text"
      },
      "source": [
        "<a href=\"https://colab.research.google.com/github/canaytsr/GlobalAIHubPythonCourse/blob/main/HW2.ipynb\" target=\"_parent\"><img src=\"https://colab.research.google.com/assets/colab-badge.svg\" alt=\"Open In Colab\"/></a>"
      ]
    },
    {
      "cell_type": "markdown",
      "metadata": {
        "id": "B5uL6_zfWlbJ"
      },
      "source": [
        "# **User login application:**\r\n",
        "\r\n",
        "**- Get Username and Password values from the user.**\r\n",
        "\r\n",
        "**- Check the values in an if statement and tell the user if they were sucessful.**\r\n"
      ]
    },
    {
      "cell_type": "code",
      "metadata": {
        "colab": {
          "base_uri": "https://localhost:8080/"
        },
        "id": "E4vkwrTkVx-C",
        "outputId": "75bc2af8-1d66-4aaa-9adf-cdbb36496d1e"
      },
      "source": [
        "username = \"Admin\"\r\n",
        "password = \"123abc\"\r\n",
        " \r\n",
        "input_username = input(\"Please enter your username:\")\r\n",
        "input_password = input(\"Please enter your password:\")\r\n",
        "\r\n",
        "if input_username == username and input_password == password:\r\n",
        "  print(\"Successful login!\")\r\n",
        "elif input_username != username and input_password == password:\r\n",
        "  print(\"Please check your username\") \r\n",
        "elif input_username == username and input_password != password:\r\n",
        "  print(\"Please check your password\") \r\n",
        "else:\r\n",
        "  print(\"Please check your username and password\") \r\n"
      ],
      "execution_count": 20,
      "outputs": [
        {
          "output_type": "stream",
          "text": [
            "Please enter your username:Admin\n",
            "Please enter your password:123abc\n",
            "Successful login!\n"
          ],
          "name": "stdout"
        }
      ]
    },
    {
      "cell_type": "markdown",
      "metadata": {
        "id": "22xE4XkxcZcO"
      },
      "source": [
        "# **Extra**:\r\n",
        "**- Try building the same user login application but this time,use a dictonary!**"
      ]
    },
    {
      "cell_type": "code",
      "metadata": {
        "colab": {
          "base_uri": "https://localhost:8080/"
        },
        "id": "sUcIWDIbZLrO",
        "outputId": "91129621-da1f-4525-fb76-73645fd405ca"
      },
      "source": [
        "my_dic={\"username\":\"Admin\",\"password\":\"123abc\"}\r\n",
        "\r\n",
        "username = input(\"Please enter your username:\")\r\n",
        "password = input(\"Please enter your password:\")\r\n",
        "\r\n",
        "if username == my_dic[\"username\"] and password == my_dic[\"password\"]:\r\n",
        "  print(\"Successful Login !\")\r\n",
        "elif username != my_dic[\"username\"] and password == my_dic[\"password\"]:\r\n",
        "  print(\"Wrong username\") \r\n",
        "elif username == my_dic[\"username\"] and password != my_dic[\"password\"]:\r\n",
        "  print(\"Wrong password\") \r\n",
        "else:\r\n",
        "  print(\"Wrong username and password\")\r\n",
        " "
      ],
      "execution_count": 21,
      "outputs": [
        {
          "output_type": "stream",
          "text": [
            "Please enter your username:Admin\n",
            "Please enter your password:123abc\n",
            "Successful Login !\n"
          ],
          "name": "stdout"
        }
      ]
    }
  ]
}