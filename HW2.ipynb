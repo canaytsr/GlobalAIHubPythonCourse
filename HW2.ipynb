{
  "nbformat": 4,
  "nbformat_minor": 0,
  "metadata": {
    "colab": {
      "name": "HW2.ipynb",
      "provenance": [],
      "authorship_tag": "ABX9TyPuhDRVWfyKJ8c/VBpJQfcU",
      "include_colab_link": true
    },
    "kernelspec": {
      "name": "python3",
      "display_name": "Python 3"
    }
  },
  "cells": [
    {
      "cell_type": "markdown",
      "metadata": {
        "id": "view-in-github",
        "colab_type": "text"
      },
      "source": [
        "<a href=\"https://colab.research.google.com/github/canaytsr/GlobalAIHubPythonCourse/blob/main/HW2.ipynb\" target=\"_parent\"><img src=\"https://colab.research.google.com/assets/colab-badge.svg\" alt=\"Open In Colab\"/></a>"
      ]
    },
    {
      "cell_type": "markdown",
      "metadata": {
        "id": "B5uL6_zfWlbJ"
      },
      "source": [
        "User login application:\r\n",
        "- Get Username and Password values from the user.\r\n",
        "- Check the values in an if statement and tell the user if they were sucessful.\r\n",
        "\r\n"
      ]
    },
    {
      "cell_type": "code",
      "metadata": {
        "colab": {
          "base_uri": "https://localhost:8080/"
        },
        "id": "E4vkwrTkVx-C",
        "outputId": "e7ca600d-afdc-45dd-94c4-5d78056320e5"
      },
      "source": [
        "username = \"Admin\"\r\n",
        "password = \"123abc\"\r\n",
        " \r\n",
        "input_username = input(\"Please enter your user name:\")\r\n",
        "input_password = input(\"Please enter your password:\")\r\n",
        "\r\n",
        "if input_username == username and input_password == password:\r\n",
        "  print(\"Successful login!\")\r\n",
        "elif input_username != username and input_password == password:\r\n",
        "  print(\"Please check your username\") \r\n",
        "elif input_username == username and input_password != password:\r\n",
        "  print(\"Please check your password\") \r\n",
        "else:\r\n",
        "  print(\"Please check your username and password\") \r\n"
      ],
      "execution_count": 17,
      "outputs": [
        {
          "output_type": "stream",
          "text": [
            "Please enter your user name:Admin\n",
            "Please enter your password:123abc\n",
            "Successful login!\n"
          ],
          "name": "stdout"
        }
      ]
    },
    {
      "cell_type": "markdown",
      "metadata": {
        "id": "22xE4XkxcZcO"
      },
      "source": [
        "Extra:\r\n",
        "- Try building the same user login application but this time,use a dictonary!"
      ]
    },
    {
      "cell_type": "code",
      "metadata": {
        "colab": {
          "base_uri": "https://localhost:8080/"
        },
        "id": "sUcIWDIbZLrO",
        "outputId": "872c4f0e-e1fd-48c4-c78d-33a1975bbb6c"
      },
      "source": [
        "my_dic={\"username\":\"Admin\",\"password\":\"123abc\"}\r\n",
        "\r\n",
        "username = input(\"Please enter your user name:\")\r\n",
        "password = input(\"Please enter your password:\")\r\n",
        "\r\n",
        "if username == my_dic[\"username\"] and password == my_dic[\"password\"]:\r\n",
        "  print(\"Successful Login\")\r\n",
        "elif username != my_dic[\"username\"] and password == my_dic[\"password\"]:\r\n",
        "  print(\"Wrong username\") \r\n",
        "elif username == my_dic[\"username\"] and password != my_dic[\"password\"]:\r\n",
        "  print(\"Wrong password\") \r\n",
        "else:\r\n",
        "  print(\"Wrong username and password\")\r\n",
        " "
      ],
      "execution_count": 18,
      "outputs": [
        {
          "output_type": "stream",
          "text": [
            "Please enter your user name:Admin\n",
            "Please enter your password:123abc\n",
            "Successful Login\n"
          ],
          "name": "stdout"
        }
      ]
    }
  ]
}