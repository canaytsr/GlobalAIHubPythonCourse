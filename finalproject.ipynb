{
  "nbformat": 4,
  "nbformat_minor": 0,
  "metadata": {
    "colab": {
      "name": "finalproject.ipynb",
      "provenance": [],
      "authorship_tag": "ABX9TyOrnV+PYgNH7Ke3ALYi6pBP",
      "include_colab_link": true
    },
    "kernelspec": {
      "name": "python3",
      "display_name": "Python 3"
    }
  },
  "cells": [
    {
      "cell_type": "markdown",
      "metadata": {
        "id": "view-in-github",
        "colab_type": "text"
      },
      "source": [
        "<a href=\"https://colab.research.google.com/github/canaytsr/GlobalAIHubPythonCourse/blob/main/finalproject.ipynb\" target=\"_parent\"><img src=\"https://colab.research.google.com/assets/colab-badge.svg\" alt=\"Open In Colab\"/></a>"
      ]
    },
    {
      "cell_type": "markdown",
      "metadata": {
        "id": "IIku5b-2Gs3f"
      },
      "source": [
        "- Company Management System: Determine the names and of employees,company managers,and the languages they can speak. Then write a program that will print the languages that any of the employees can speak. In his project,complate the project by creating two classes named employees and manager."
      ]
    },
    {
      "cell_type": "code",
      "metadata": {
        "id": "3CbRBVWOGfJs"
      },
      "source": [
        "class Company():\r\n",
        "    def __init__(self,cname,year):\r\n",
        "        self.cname = cname\r\n",
        "        self.year = year\r\n",
        "        print('Company name:'+cname)\r\n",
        "\r\n",
        "class Employees(Company):\r\n",
        "    def __init__(self,name,age,language):\r\n",
        "        Company.__init__(self,cname,year)\r\n",
        "        self.name = name\r\n",
        "        self.age = age\r\n",
        "        self.language = language\r\n",
        "        print('Employee name:'+name +'Employee age:'+str(age)+'Employee speak language:'+str(language))\r\n",
        "\r\n",
        "   \r\n",
        "class Manager(Company):\r\n",
        "    def __init__(self, manager_name):\r\n",
        "        Company.__init__(self,cname,year)\r\n",
        "        self.manager_name = manager_name\r\n",
        "        print('Manager name:',manager_namename)\r\n",
        "\r\n",
        "\r\n",
        "c = Company(\"Bosh\", \"1995\") \r\n",
        "e = Employees(\"name\",\"age\",\"language\")\r\n",
        "\r\n",
        "\r\n"
      ],
      "execution_count": null,
      "outputs": []
    },
    {
      "cell_type": "code",
      "metadata": {
        "colab": {
          "base_uri": "https://localhost:8080/"
        },
        "id": "G1KCXW7rpm5Q",
        "outputId": "67fb815e-5b08-409a-8f8a-beab108c08ef"
      },
      "source": [
        "\r\n",
        "class Employees:\r\n",
        "    def __init__(self ,name,surname,age,language,department):\r\n",
        "        \r\n",
        "        self.name = name\r\n",
        "        self.surname = surname\r\n",
        "        self.age = age\r\n",
        "        self.language = language\r\n",
        "        self.department = department        \r\n",
        "\r\n",
        "    def show(self):\r\n",
        "      print(\"-\"*20) \r\n",
        "      print(\"Name:\"+self.name)\r\n",
        "      print(\"Surname:\"+self.surname)\r\n",
        "      print(\"Age:\"+str(self.age))\r\n",
        "      print(\"Department:\"+self.department)\r\n",
        "      print(\"Languages:\"+ self.language)\r\n",
        "      \r\n",
        "\r\n",
        "    def set_language(self,language):\r\n",
        "      self.language+=','+str(language)\r\n",
        "\r\n",
        "    def get_language(self):\r\n",
        "      return self.language\r\n",
        "\r\n",
        "class Manager(Employees):\r\n",
        "    def __init__(self, name,surname,age,language,department,position):\r\n",
        "      super().__init__(name,surname,age, language,department)\r\n",
        "      self.position = position\r\n",
        "        \r\n",
        "    def show(self):\r\n",
        "      super().show()\r\n",
        "      print('Skill:'+self.position+'\\n')\r\n",
        " \r\n",
        "ali = Employees('Ali', 'Yılmaz',45,'English,Turkish','R&D',)\r\n",
        "ali.show()\r\n",
        "\r\n",
        "emel = Manager('Emel','Sadık',34,'English','R&D','Manager')\r\n",
        "\r\n",
        "print(\"\\nLanguages=\",emel.get_language())\r\n",
        "emel.set_language(\"French\")\r\n",
        "   \r\n",
        "emel.show()"
      ],
      "execution_count": 142,
      "outputs": [
        {
          "output_type": "stream",
          "text": [
            "--------------------\n",
            "Name:Ali\n",
            "Surname:Yılmaz\n",
            "Age:45\n",
            "Department:R&D\n",
            "Languages:English,Turkish\n",
            "\n",
            "Languages= English\n",
            "--------------------\n",
            "Name:Emel\n",
            "Surname:Sadık\n",
            "Age:34\n",
            "Department:R&D\n",
            "Languages:English,French\n",
            "Skill:Manager\n",
            "\n"
          ],
          "name": "stdout"
        }
      ]
    }
  ]
}