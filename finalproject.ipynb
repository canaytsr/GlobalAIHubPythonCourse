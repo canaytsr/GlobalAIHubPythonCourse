{
  "nbformat": 4,
  "nbformat_minor": 0,
  "metadata": {
    "colab": {
      "name": "finalproject.ipynb",
      "provenance": [],
      "collapsed_sections": [],
      "authorship_tag": "ABX9TyP4TDn6TGFPwbgVsAjYrhGP",
      "include_colab_link": true
    },
    "kernelspec": {
      "name": "python3",
      "display_name": "Python 3"
    }
  },
  "cells": [
    {
      "cell_type": "markdown",
      "metadata": {
        "id": "view-in-github",
        "colab_type": "text"
      },
      "source": [
        "<a href=\"https://colab.research.google.com/github/canaytsr/GlobalAIHubPythonCourse/blob/main/finalproject.ipynb\" target=\"_parent\"><img src=\"https://colab.research.google.com/assets/colab-badge.svg\" alt=\"Open In Colab\"/></a>"
      ]
    },
    {
      "cell_type": "markdown",
      "metadata": {
        "id": "IIku5b-2Gs3f"
      },
      "source": [
        "- Company Management System: Determine the names and of employees,company managers,and the languages they can speak. Then write a program that will print the languages that any of the employees can speak. In his project,complate the project by creating two classes named employees and manager."
      ]
    },
    {
      "cell_type": "code",
      "metadata": {
        "colab": {
          "base_uri": "https://localhost:8080/"
        },
        "id": "G1KCXW7rpm5Q",
        "outputId": "e114f51d-9d4b-464e-ccd1-05cc24293188"
      },
      "source": [
        "class Employees:\r\n",
        "    def __init__(self ,name,surname,age,language,department):\r\n",
        "        \r\n",
        "        self.name = name\r\n",
        "        self.surname = surname\r\n",
        "        self.age = age\r\n",
        "        self.language = language\r\n",
        "        self.department = department        \r\n",
        "\r\n",
        "    def show(self):\r\n",
        "      print(\"-\"*20) \r\n",
        "      print(\"Name:\"+self.name)\r\n",
        "      print(\"Surname:\"+self.surname)\r\n",
        "      print(\"Age:\"+str(self.age))\r\n",
        "      print(\"Department:\"+self.department)\r\n",
        "      print(\"Languages:\"+ self.language)\r\n",
        "      \r\n",
        "\r\n",
        "    def set_language(self,language):\r\n",
        "      self.language+=','+str(language)\r\n",
        "\r\n",
        "    def get_language(self):\r\n",
        "      return self.language\r\n",
        "\r\n",
        "class Manager(Employees):\r\n",
        "    def __init__(self, name,surname,age,language,department,position):\r\n",
        "      super().__init__(name,surname,age, language,department)\r\n",
        "      self.position = position\r\n",
        "        \r\n",
        "    def show(self):\r\n",
        "      super().show()\r\n",
        "      print('Skill:'+self.position+'\\n')\r\n",
        " \r\n",
        "ali = Employees('Ali', 'Yılmaz',45,'English,Turkish','R&D',)\r\n",
        "ali.show()\r\n",
        "\r\n",
        "emel = Manager('Emel','Sadık',34,'English','R&D','Manager')\r\n",
        "\r\n",
        "print(\"\\nLanguages=\",emel.get_language())\r\n",
        "emel.set_language(\"French\")\r\n",
        "   \r\n",
        "emel.show()"
      ],
      "execution_count": 143,
      "outputs": [
        {
          "output_type": "stream",
          "text": [
            "--------------------\n",
            "Name:Ali\n",
            "Surname:Yılmaz\n",
            "Age:45\n",
            "Department:R&D\n",
            "Languages:English,Turkish\n",
            "\n",
            "Languages= English\n",
            "--------------------\n",
            "Name:Emel\n",
            "Surname:Sadık\n",
            "Age:34\n",
            "Department:R&D\n",
            "Languages:English,French\n",
            "Skill:Manager\n",
            "\n"
          ],
          "name": "stdout"
        }
      ]
    }
  ]
}