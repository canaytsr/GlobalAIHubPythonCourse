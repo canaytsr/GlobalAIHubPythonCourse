{
  "nbformat": 4,
  "nbformat_minor": 0,
  "metadata": {
    "colab": {
      "name": "HW4.ipynb",
      "provenance": [],
      "authorship_tag": "ABX9TyM4FLzwmJ8F6r5PiEUbm7CI",
      "include_colab_link": true
    },
    "kernelspec": {
      "name": "python3",
      "display_name": "Python 3"
    }
  },
  "cells": [
    {
      "cell_type": "markdown",
      "metadata": {
        "id": "view-in-github",
        "colab_type": "text"
      },
      "source": [
        "<a href=\"https://colab.research.google.com/github/canaytsr/GlobalAIHubPythonCourse/blob/main/HW4.ipynb\" target=\"_parent\"><img src=\"https://colab.research.google.com/assets/colab-badge.svg\" alt=\"Open In Colab\"/></a>"
      ]
    },
    {
      "cell_type": "markdown",
      "metadata": {
        "id": "mlkH3EKxx3X_"
      },
      "source": [
        "- Create three classes named Animals,Dogs and Cats. Add some features to these classes. Create some function with these attributes. Don't forget! You have to do it using inheritance."
      ]
    },
    {
      "cell_type": "code",
      "metadata": {
        "colab": {
          "base_uri": "https://localhost:8080/"
        },
        "id": "du9kjeqqxed3",
        "outputId": "1b8824ba-b248-4fa3-a924-feb43b8b3a0c"
      },
      "source": [
        "class Animal():\r\n",
        "    def __init__(self, name, age):\r\n",
        "        self.name = name\r\n",
        "        self.age = age\r\n",
        "        print('Animal Created')\r\n",
        "\r\n",
        "    def defination(self):\r\n",
        "        print('I am an Animal')\r\n",
        "\r\n",
        "    def eat(self):\r\n",
        "        print('I am Eating')\r\n",
        "        \r\n",
        "    def leg(self):\r\n",
        "        print('I have 4 legs')\r\n",
        "\r\n",
        "class Dogs(Animal):\r\n",
        "    def __init__(self, name, age, height):\r\n",
        "        Animal.__init__(self, name, age)\r\n",
        "        self.height = height\r\n",
        "        print('Dog Created')\r\n",
        "\r\n",
        "    def defination(self):\r\n",
        "        print('I am a Dog')\r\n",
        "        \r\n",
        "    def eat(self):\r\n",
        "        print('Eat Meat')\r\n",
        "    \r\n",
        "class Cats(Animal):\r\n",
        "    def __init__(self,name, age,weight):\r\n",
        "        super().__init__(name, age)\r\n",
        "        self.weight = weight\r\n",
        "        print('Cat Created')\r\n",
        "    \r\n",
        "    def defination(self):\r\n",
        "        print('I am a Cat')\r\n",
        "        \r\n",
        "    def eat(self):\r\n",
        "        print('Eat Fish')\r\n",
        "\r\n",
        "animal1 = Animal('Dog',15)\r\n",
        "dog1 = Dogs('Golden',8, '20cm')\r\n",
        "cat1 = Cats('British Shorthair',3,'30cm')\r\n",
        "\r\n",
        "\r\n",
        "print('Name:'+animal1.name + ' Age:' + str(animal1.age))\r\n",
        "print('Name:'+dog1.name + ' Age: ' + str(dog1.age)+ ' Height: '+ dog1.height)\r\n",
        "print(cat1.name + ' Age : ' + str(cat1.age)+ ' Weight: '+ cat1.weight)\r\n",
        "\r\n",
        "animal1.defination()\r\n",
        "dog1.defination()\r\n",
        "cat1.defination()\r\n",
        "\r\n",
        "dog1.leg()\r\n",
        "cat1.leg()\r\n",
        "\r\n",
        "animal1.eat()\r\n",
        "dog1.eat()\r\n",
        "cat1.eat()\r\n"
      ],
      "execution_count": 4,
      "outputs": [
        {
          "output_type": "stream",
          "text": [
            "Animal Created\n",
            "Animal Created\n",
            "Dog Created\n",
            "Animal Created\n",
            "Cat Created\n",
            "Name:Dog Age:15\n",
            "Name:Golden Age: 8 Height: 20cm\n",
            "British Shorthair Age : 3 Weight: 30cm\n",
            "I am an Animal\n",
            "I am a Dog\n",
            "I am a Cat\n",
            "I have 4 legs\n",
            "I have 4 legs\n",
            "I am Eating\n",
            "Eat Meat\n",
            "Eat Fish\n"
          ],
          "name": "stdout"
        }
      ]
    }
  ]
}