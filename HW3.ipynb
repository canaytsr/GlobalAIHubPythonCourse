{
  "nbformat": 4,
  "nbformat_minor": 0,
  "metadata": {
    "colab": {
      "name": "HW3.ipynb",
      "provenance": [],
      "authorship_tag": "ABX9TyMwTGtzTv3dms7O5qI3/xRS",
      "include_colab_link": true
    },
    "kernelspec": {
      "name": "python3",
      "display_name": "Python 3"
    }
  },
  "cells": [
    {
      "cell_type": "markdown",
      "metadata": {
        "id": "view-in-github",
        "colab_type": "text"
      },
      "source": [
        "<a href=\"https://colab.research.google.com/github/canaytsr/GlobalAIHubPythonCourse/blob/main/HW3.ipynb\" target=\"_parent\"><img src=\"https://colab.research.google.com/assets/colab-badge.svg\" alt=\"Open In Colab\"/></a>"
      ]
    },
    {
      "cell_type": "markdown",
      "metadata": {
        "id": "Xg7-PV3Jk3XO"
      },
      "source": [
        " \r\n",
        "- **Finding prime numbers between 0 and 100 using functions**\r\n",
        "\r\n",
        "\r\n",
        "\r\n",
        "\r\n",
        "\r\n"
      ]
    },
    {
      "cell_type": "code",
      "metadata": {
        "colab": {
          "base_uri": "https://localhost:8080/"
        },
        "id": "aGT4Lfc5kq7x",
        "outputId": "1bb1aa4b-c248-49b6-893a-dd7c32975f80"
      },
      "source": [
        "def find():\r\n",
        "    a=1\r\n",
        "    for i in range(2,101):\r\n",
        "        if i > 1:\r\n",
        "            for j in range(2,i):\r\n",
        "                if (i % j) == 0:\r\n",
        "                    break\r\n",
        "            else:\r\n",
        "                print(f'{a})Prime number : {i}')\r\n",
        "                a+=1\r\n",
        "                    \r\n",
        "find()"
      ],
      "execution_count": 9,
      "outputs": [
        {
          "output_type": "stream",
          "text": [
            "1)Prime number : 2\n",
            "2)Prime number : 3\n",
            "3)Prime number : 5\n",
            "4)Prime number : 7\n",
            "5)Prime number : 11\n",
            "6)Prime number : 13\n",
            "7)Prime number : 17\n",
            "8)Prime number : 19\n",
            "9)Prime number : 23\n",
            "10)Prime number : 29\n",
            "11)Prime number : 31\n",
            "12)Prime number : 37\n",
            "13)Prime number : 41\n",
            "14)Prime number : 43\n",
            "15)Prime number : 47\n",
            "16)Prime number : 53\n",
            "17)Prime number : 59\n",
            "18)Prime number : 61\n",
            "19)Prime number : 67\n",
            "20)Prime number : 71\n",
            "21)Prime number : 73\n",
            "22)Prime number : 79\n",
            "23)Prime number : 83\n",
            "24)Prime number : 89\n",
            "25)Prime number : 97\n"
          ],
          "name": "stdout"
        }
      ]
    },
    {
      "cell_type": "code",
      "metadata": {
        "id": "GJWVEVtelEq-"
      },
      "source": [
        ""
      ],
      "execution_count": null,
      "outputs": []
    }
  ]
}